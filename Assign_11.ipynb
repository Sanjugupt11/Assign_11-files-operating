{
 "cells": [
  {
   "cell_type": "code",
   "execution_count": null,
   "id": "160c4ae8-6c24-4b3d-9022-34e3d903f3f0",
   "metadata": {},
   "outputs": [],
   "source": [
    "Q1. Which function is used to open a file? What are the different modes of opening a file? Explain each mode\n",
    "of file opening.\n",
    "Ans:- the open() method to open files.\n",
    "r\tOpen a file for reading. (default)\n",
    "w\tOpen a file for writing. Creates a new file if it does not exist or truncates the file if it exists.\n",
    "x\tOpen a file for exclusive creation. If the file already exists, the operation fails.\n",
    "a\tOpen a file for appending at the end of the file without truncating it. Creates a new file if it does not exist.\n",
    "t\tOpen in text mode. (default)\n",
    "b\tOpen in binary mode.\n",
    "+\tOpen a file for updating (reading and writing)\n"
   ]
  },
  {
   "cell_type": "code",
   "execution_count": null,
   "id": "261d33c1-270b-4ee2-9907-25c33710842f",
   "metadata": {},
   "outputs": [],
   "source": [
    "Q2. Why close() function is used? Why is it important to close a file?\n",
    "Ans:-The close() method closes an open file. You should always close your files, in some cases, due to buffering,\n",
    "changes made to a file may not show until you close the file.\n"
   ]
  },
  {
   "cell_type": "code",
   "execution_count": 4,
   "id": "794c749f-629b-4037-9121-0a06fdf72677",
   "metadata": {},
   "outputs": [
    {
     "data": {
      "text/plain": [
       "'I want to become a data scientist'"
      ]
     },
     "execution_count": 4,
     "metadata": {},
     "output_type": "execute_result"
    }
   ],
   "source": [
    "'''Q3. Write a python program to create a text file. Write ‘I want to become a Data Scientist’ in that file. Then\n",
    "close the file. Open this file and read the content of the file.'''\n",
    "f=open(\"text.txt\",'w')\n",
    "f.write(\"I want to become a data scientist\")\n",
    "f.close()\n",
    "f=open(\"text.txt\",'r')\n",
    "f.read()"
   ]
  },
  {
   "cell_type": "code",
   "execution_count": null,
   "id": "4efed17c-14b7-439c-b407-7fe3606fbf31",
   "metadata": {},
   "outputs": [],
   "source": [
    "Q4. Explain the following with python code: read(), readline() and readlines().\n",
    "Ans: The read() method returns the specified number of bytes from the file. Default is -1 which means the whole\n",
    "file.\n",
    "Python readline() method will return a line from the file when called. \n",
    "readlines() method will return all the lines in a file in the format of a list where each element is a line in the file\n"
   ]
  },
  {
   "cell_type": "code",
   "execution_count": null,
   "id": "52574a33-1336-4067-821d-15e3091be0c7",
   "metadata": {},
   "outputs": [],
   "source": [
    "Q5. Explain why with statement is used with open(). What is the advantage of using with statement and\n",
    "open() together?\n",
    "Ans:-The with statement works with the open() function to open a file. Unlike open() where you have to close the \n",
    "file with the close() method, the with statement closes the file for you without you telling it to. This is\n",
    "because the with statement calls 2 built-in methods behind the scene – __enter()__ and __exit()__ "
   ]
  },
  {
   "cell_type": "code",
   "execution_count": 5,
   "id": "283ec769-2662-402a-b5d2-8e8182ebcaac",
   "metadata": {},
   "outputs": [],
   "source": [
    "'''Q6. Explain the write() and writelines() functions. Give a suitable example.\n",
    "Ans:-\n",
    "the write() and writelines() is that write() is used to write a string to an already opened file while \n",
    "writelines() method is used to write a list of strings in an opened file'''\n",
    "# write functions\n",
    "f=open(\"text.txt\",'w')\n",
    "f.write(\"I want to become a data scientist\")\n",
    "f.close()\n",
    "\n",
    "\n"
   ]
  },
  {
   "cell_type": "code",
   "execution_count": null,
   "id": "ee57d4c6-3947-4218-b7db-99a3ba299e03",
   "metadata": {},
   "outputs": [],
   "source": [
    "# writelines functions\n"
   ]
  }
 ],
 "metadata": {
  "kernelspec": {
   "display_name": "Python 3 (ipykernel)",
   "language": "python",
   "name": "python3"
  },
  "language_info": {
   "codemirror_mode": {
    "name": "ipython",
    "version": 3
   },
   "file_extension": ".py",
   "mimetype": "text/x-python",
   "name": "python",
   "nbconvert_exporter": "python",
   "pygments_lexer": "ipython3",
   "version": "3.10.8"
  }
 },
 "nbformat": 4,
 "nbformat_minor": 5
}
